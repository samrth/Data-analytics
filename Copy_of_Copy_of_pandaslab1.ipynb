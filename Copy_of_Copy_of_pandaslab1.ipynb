{
  "nbformat": 4,
  "nbformat_minor": 0,
  "metadata": {
    "colab": {
      "name": "Copy of Copy of pandaslab1.ipynb",
      "provenance": []
    },
    "kernelspec": {
      "name": "python3",
      "display_name": "Python 3"
    }
  },
  "cells": [
    {
      "cell_type": "code",
      "metadata": {
        "id": "U522tbV5tBr9",
        "colab_type": "code",
        "outputId": "b17ee62f-9665-4c0d-c6ea-f547a41fa6d3",
        "colab": {
          "base_uri": "https://localhost:8080/",
          "height": 145
        }
      },
      "source": [
        "import pandas as pd\n",
        "data=[2,3,4,5,6,7]\n",
        "result=pd.Series(data)\n",
        "print(result)"
      ],
      "execution_count": 0,
      "outputs": [
        {
          "output_type": "stream",
          "text": [
            "0    2\n",
            "1    3\n",
            "2    4\n",
            "3    5\n",
            "4    6\n",
            "5    7\n",
            "dtype: int64\n"
          ],
          "name": "stdout"
        }
      ]
    },
    {
      "cell_type": "code",
      "metadata": {
        "id": "dnqSEyJEvO6n",
        "colab_type": "code",
        "outputId": "e55b51dd-d48e-4da2-a073-92fe7f521b1d",
        "colab": {
          "base_uri": "https://localhost:8080/",
          "height": 126
        }
      },
      "source": [
        "import pandas as pd\n",
        "import numpy as np\n",
        "df=pd.DataFrame(np.random.randn(6,8))\n",
        "df['new']=df[2]+df[6]\n",
        "df.drop(3,axis=0,inplace=True)\n",
        "\n",
        "print(df['new'])\n"
      ],
      "execution_count": 0,
      "outputs": [
        {
          "output_type": "stream",
          "text": [
            "0    1.252799\n",
            "1   -1.627951\n",
            "2    0.165954\n",
            "4   -0.864538\n",
            "5   -0.980500\n",
            "Name: new, dtype: float64\n"
          ],
          "name": "stdout"
        }
      ]
    },
    {
      "cell_type": "code",
      "metadata": {
        "id": "Lb0F8KJ90D54",
        "colab_type": "code",
        "outputId": "ef7cf2ca-1bb0-49d5-affc-7da52f9343bd",
        "colab": {
          "base_uri": "https://localhost:8080/",
          "height": 90
        }
      },
      "source": [
        "import pandas as pd\n",
        "import numpy as np\n",
        "df=pd.DataFrame(np.random.randn(6,8))\n",
        "#only 1 and 6 col print\n",
        "print(df.loc[1:3,(1,6)])\n",
        "#print(df.iloc[1:3])\n",
        "\n"
      ],
      "execution_count": 0,
      "outputs": [
        {
          "output_type": "stream",
          "text": [
            "          1         6\n",
            "1 -0.445392  1.102261\n",
            "2 -1.790153  0.250284\n",
            "3  1.091096  0.262394\n"
          ],
          "name": "stdout"
        }
      ]
    },
    {
      "cell_type": "code",
      "metadata": {
        "id": "6lm_SDW8yHjd",
        "colab_type": "code",
        "outputId": "4115fbd8-e8e3-47e0-e07a-ed9c2a41af3a",
        "colab": {
          "base_uri": "https://localhost:8080/",
          "height": 198
        }
      },
      "source": [
        "import pandas as pd\n",
        "import numpy as np\n",
        "df=pd.DataFrame(np.random.randn(5,8))\n",
        "\n",
        "n='0 1 2 3 4'.split(\" \")\n",
        "df['new']=n\n",
        "df.set_index('new')\n",
        "df\n",
        "\n",
        "\n",
        "\n",
        "\n",
        "\n",
        "\n",
        "\n",
        "\n",
        "\n",
        "\n"
      ],
      "execution_count": 0,
      "outputs": [
        {
          "output_type": "execute_result",
          "data": {
            "text/html": [
              "<div>\n",
              "<style scoped>\n",
              "    .dataframe tbody tr th:only-of-type {\n",
              "        vertical-align: middle;\n",
              "    }\n",
              "\n",
              "    .dataframe tbody tr th {\n",
              "        vertical-align: top;\n",
              "    }\n",
              "\n",
              "    .dataframe thead th {\n",
              "        text-align: right;\n",
              "    }\n",
              "</style>\n",
              "<table border=\"1\" class=\"dataframe\">\n",
              "  <thead>\n",
              "    <tr style=\"text-align: right;\">\n",
              "      <th></th>\n",
              "      <th>0</th>\n",
              "      <th>1</th>\n",
              "      <th>2</th>\n",
              "      <th>3</th>\n",
              "      <th>4</th>\n",
              "      <th>5</th>\n",
              "      <th>6</th>\n",
              "      <th>7</th>\n",
              "      <th>new</th>\n",
              "    </tr>\n",
              "  </thead>\n",
              "  <tbody>\n",
              "    <tr>\n",
              "      <th>0</th>\n",
              "      <td>-1.971497</td>\n",
              "      <td>-1.327054</td>\n",
              "      <td>0.128936</td>\n",
              "      <td>0.598269</td>\n",
              "      <td>-0.722277</td>\n",
              "      <td>1.357458</td>\n",
              "      <td>1.464895</td>\n",
              "      <td>0.768637</td>\n",
              "      <td>0</td>\n",
              "    </tr>\n",
              "    <tr>\n",
              "      <th>1</th>\n",
              "      <td>0.439375</td>\n",
              "      <td>0.756954</td>\n",
              "      <td>-0.650578</td>\n",
              "      <td>-0.742958</td>\n",
              "      <td>0.103338</td>\n",
              "      <td>0.720115</td>\n",
              "      <td>0.243269</td>\n",
              "      <td>0.855132</td>\n",
              "      <td>1</td>\n",
              "    </tr>\n",
              "    <tr>\n",
              "      <th>2</th>\n",
              "      <td>1.301768</td>\n",
              "      <td>0.078506</td>\n",
              "      <td>1.390687</td>\n",
              "      <td>-0.252585</td>\n",
              "      <td>0.160876</td>\n",
              "      <td>-0.066162</td>\n",
              "      <td>0.852142</td>\n",
              "      <td>0.544087</td>\n",
              "      <td>2</td>\n",
              "    </tr>\n",
              "    <tr>\n",
              "      <th>3</th>\n",
              "      <td>1.122932</td>\n",
              "      <td>-0.285669</td>\n",
              "      <td>-0.619893</td>\n",
              "      <td>-0.455162</td>\n",
              "      <td>1.589143</td>\n",
              "      <td>-1.248120</td>\n",
              "      <td>-0.360235</td>\n",
              "      <td>1.044089</td>\n",
              "      <td>3</td>\n",
              "    </tr>\n",
              "    <tr>\n",
              "      <th>4</th>\n",
              "      <td>-0.272653</td>\n",
              "      <td>0.111329</td>\n",
              "      <td>0.185539</td>\n",
              "      <td>0.595039</td>\n",
              "      <td>-0.744340</td>\n",
              "      <td>-0.126322</td>\n",
              "      <td>0.587246</td>\n",
              "      <td>0.177605</td>\n",
              "      <td>4</td>\n",
              "    </tr>\n",
              "  </tbody>\n",
              "</table>\n",
              "</div>"
            ],
            "text/plain": [
              "          0         1         2         3  ...         5         6         7  new\n",
              "0 -1.971497 -1.327054  0.128936  0.598269  ...  1.357458  1.464895  0.768637    0\n",
              "1  0.439375  0.756954 -0.650578 -0.742958  ...  0.720115  0.243269  0.855132    1\n",
              "2  1.301768  0.078506  1.390687 -0.252585  ... -0.066162  0.852142  0.544087    2\n",
              "3  1.122932 -0.285669 -0.619893 -0.455162  ... -1.248120 -0.360235  1.044089    3\n",
              "4 -0.272653  0.111329  0.185539  0.595039  ... -0.126322  0.587246  0.177605    4\n",
              "\n",
              "[5 rows x 9 columns]"
            ]
          },
          "metadata": {
            "tags": []
          },
          "execution_count": 77
        }
      ]
    }
  ]
}